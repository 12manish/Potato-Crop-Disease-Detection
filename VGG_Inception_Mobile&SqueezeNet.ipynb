{
  "nbformat": 4,
  "nbformat_minor": 0,
  "metadata": {
    "colab": {
      "provenance": []
    },
    "kernelspec": {
      "name": "python3",
      "display_name": "Python 3"
    },
    "language_info": {
      "name": "python"
    }
  },
  "cells": [
    {
      "cell_type": "code",
      "source": [
        "!pip install split-folders "
      ],
      "metadata": {
        "colab": {
          "base_uri": "https://localhost:8080/"
        },
        "id": "GmHfnMWMygfs",
        "outputId": "b0d9ddec-0f8f-498f-c1e5-48c1369997f8"
      },
      "execution_count": null,
      "outputs": [
        {
          "output_type": "stream",
          "name": "stdout",
          "text": [
            "Looking in indexes: https://pypi.org/simple, https://us-python.pkg.dev/colab-wheels/public/simple/\n",
            "Collecting split-folders\n",
            "  Downloading split_folders-0.5.1-py3-none-any.whl (8.4 kB)\n",
            "Installing collected packages: split-folders\n",
            "Successfully installed split-folders-0.5.1\n"
          ]
        }
      ]
    },
    {
      "cell_type": "code",
      "execution_count": null,
      "metadata": {
        "id": "aO2mepXKccbO",
        "colab": {
          "base_uri": "https://localhost:8080/"
        },
        "outputId": "8fea74e0-d28d-4496-9111-f450977bd07f"
      },
      "outputs": [
        {
          "output_type": "stream",
          "name": "stderr",
          "text": [
            "Copying files: 20639 files [05:50, 58.90 files/s] \n"
          ]
        }
      ],
      "source": [
        "import splitfolders \n",
        "# Split with a ratio.\n",
        "# To only split into training and validation set, set a tuple to `ratio`, i.e, `(.8, .2)`.\n",
        "splitfolders.ratio(\"/content/drive/MyDrive/PlantVillage/data\", output=\"Dataset\",seed=1337, ratio=(.8, .1, .1), group_prefix=None, move=False) "
      ]
    },
    {
      "cell_type": "code",
      "source": [
        "import pandas as pd\n",
        "import numpy as np\n",
        "import matplotlib.pyplot as plt\n",
        "import cv2\n",
        "import os\n",
        "import seaborn as sns\n",
        "import tensorflow as tf\n",
        "from tensorflow.keras.models import *\n",
        "from tensorflow.keras.layers import *\n",
        "from tensorflow.keras.preprocessing.image import ImageDataGenerator, img_to_array\n",
        "DATA_PATH = '/content/drive/MyDrive/PlantVillage/data'\n",
        "IMG_SHAPE = (224, 224)\n",
        "INPUT_SHAPE = [224, 224, 3]\n",
        "EPOCHS = 20\n",
        "BS = 32\n",
        "img_data_gen = ImageDataGenerator(rescale=1./255, rotation_range=0.2, horizontal_flip=True, vertical_flip=True,\n",
        "                                 shear_range=0.2, validation_split=0.25)\n",
        "\n",
        "train_data_gen = img_data_gen.flow_from_directory(DATA_PATH, batch_size=BS, subset='training', \n",
        "                                                  class_mode=\"sparse\" , shuffle=True) \n",
        "\n",
        "val_data_gen = img_data_gen.flow_from_directory(DATA_PATH, batch_size=BS, subset='validation', \n",
        "                                                  class_mode=\"sparse\" , shuffle=True)\n",
        "label = train_data_gen.class_indices"
      ],
      "metadata": {
        "colab": {
          "base_uri": "https://localhost:8080/"
        },
        "id": "Q4KybW2gb-TB",
        "outputId": "25b4f51e-c3b3-470d-f90b-5050267d8720"
      },
      "execution_count": null,
      "outputs": [
        {
          "output_type": "stream",
          "name": "stdout",
          "text": [
            "Found 15482 images belonging to 15 classes.\n",
            "Found 5156 images belonging to 15 classes.\n"
          ]
        }
      ]
    },
    {
      "cell_type": "code",
      "source": [
        "def model_building(model_name, INPUT_SHAPE=INPUT_SHAPE):\n",
        "    print('Model Initialization started')\n",
        "    base_model = model_name(include_top=False, weights='imagenet', input_shape=INPUT_SHAPE)\n",
        "    \n",
        "    for layers in base_model.layers:\n",
        "        layers.trainable = False\n",
        "    print('Model Initialization finished')\n",
        "    \n",
        "    #model creation\n",
        "    print('Model creation started')\n",
        "    inp_model = base_model.output\n",
        "    \n",
        "    x = GlobalAveragePooling2D()(inp_model)\n",
        "    x = Dense(128, activation = 'relu')(x)\n",
        "    x = Dense(15, activation = 'sigmoid')(x)\n",
        "    \n",
        "    model = Model(inputs = base_model.input, outputs = x)\n",
        "    \n",
        "    #model summary\n",
        "    print('Model summary')\n",
        "    #model.summary()\n",
        "    \n",
        "    #model compilation\n",
        "    model.compile(\n",
        "        optimizer='adam',\n",
        "        loss=tf.keras.losses.SparseCategoricalCrossentropy(from_logits=False),\n",
        "        metrics=['accuracy']\n",
        "    )\n",
        "    history = model.fit(\n",
        "        train_data_gen,\n",
        "        steps_per_epoch=47,\n",
        "        batch_size=32,\n",
        "        validation_data=val_data_gen,\n",
        "        validation_steps=6,\n",
        "        verbose=1,\n",
        "        #epochs=20,\n",
        "        epochs=10,\n",
        "    )\n",
        "    \n",
        "    print('Model Building Finished')\n",
        "    !mkdir -p saved_model\n",
        "    model.save(f'saved_model/{model_name}_1.h5')\n",
        "    print('Model was saved') \n",
        "\n",
        "    return history"
      ],
      "metadata": {
        "id": "E3WsPBZtcVpq"
      },
      "execution_count": null,
      "outputs": []
    },
    {
      "cell_type": "code",
      "source": [
        "def evaluation_plot(model):\n",
        "    sns.set_style('whitegrid')\n",
        "    \n",
        "    plt.figure(figsize=(10, 8))\n",
        "    plt.plot(model['loss'], label = 'loss')\n",
        "    plt.plot(model['accuracy'], label = 'accuracy')\n",
        "    plt.plot(model['val_loss'], label = 'val_loss')\n",
        "    plt.plot(model['val_accuracy'], label = 'val_accuracy')\n",
        "    plt.legend()\n",
        "    plt.title('Model Evaluation')\n",
        "    plt.show()"
      ],
      "metadata": {
        "id": "rQTfn_mpc3Hw"
      },
      "execution_count": null,
      "outputs": []
    },
    {
      "cell_type": "markdown",
      "source": [
        "#InceptionV3"
      ],
      "metadata": {
        "id": "EsutNHPqc9F_"
      }
    },
    {
      "cell_type": "code",
      "source": [
        "from tensorflow.keras.applications.inception_v3 import InceptionV3"
      ],
      "metadata": {
        "id": "5bSpstJrc_UL"
      },
      "execution_count": null,
      "outputs": []
    },
    {
      "cell_type": "code",
      "source": [
        "inc_history = model_building(InceptionV3) "
      ],
      "metadata": {
        "colab": {
          "base_uri": "https://localhost:8080/"
        },
        "id": "Mzoj6BSAdCX2",
        "outputId": "cc74e1c8-5fb4-444d-c09e-e90c0f191fff"
      },
      "execution_count": null,
      "outputs": [
        {
          "output_type": "stream",
          "name": "stdout",
          "text": [
            "Model Initialization started\n",
            "Downloading data from https://storage.googleapis.com/tensorflow/keras-applications/inception_v3/inception_v3_weights_tf_dim_ordering_tf_kernels_notop.h5\n",
            "87910968/87910968 [==============================] - 1s 0us/step\n",
            "Model Initialization finished\n",
            "Model creation started\n",
            "Model summary\n",
            "Epoch 1/10\n",
            "47/47 [==============================] - 276s 6s/step - loss: 1.8225 - accuracy: 0.4328 - val_loss: 1.3822 - val_accuracy: 0.5729\n",
            "Epoch 2/10\n",
            "47/47 [==============================] - 269s 6s/step - loss: 1.1995 - accuracy: 0.6170 - val_loss: 1.1177 - val_accuracy: 0.6354\n",
            "Epoch 3/10\n",
            "47/47 [==============================] - 270s 6s/step - loss: 0.9491 - accuracy: 0.7048 - val_loss: 1.1480 - val_accuracy: 0.5990\n",
            "Epoch 4/10\n",
            "47/47 [==============================] - 273s 6s/step - loss: 0.8790 - accuracy: 0.7101 - val_loss: 0.8903 - val_accuracy: 0.6927\n",
            "Epoch 5/10\n",
            "47/47 [==============================] - 270s 6s/step - loss: 0.8101 - accuracy: 0.7394 - val_loss: 0.9156 - val_accuracy: 0.6719\n",
            "Epoch 6/10\n",
            "47/47 [==============================] - 272s 6s/step - loss: 0.7363 - accuracy: 0.7507 - val_loss: 0.9561 - val_accuracy: 0.6771\n",
            "Epoch 7/10\n",
            "47/47 [==============================] - 269s 6s/step - loss: 0.7398 - accuracy: 0.7527 - val_loss: 0.7830 - val_accuracy: 0.7500\n",
            "Epoch 8/10\n",
            "47/47 [==============================] - 268s 6s/step - loss: 0.6675 - accuracy: 0.7753 - val_loss: 0.8025 - val_accuracy: 0.7240\n",
            "Epoch 9/10\n",
            "47/47 [==============================] - 266s 6s/step - loss: 0.6834 - accuracy: 0.7680 - val_loss: 0.6446 - val_accuracy: 0.7812\n",
            "Epoch 10/10\n",
            "47/47 [==============================] - 266s 6s/step - loss: 0.5759 - accuracy: 0.8172 - val_loss: 0.5306 - val_accuracy: 0.8490\n",
            "Model Building Finished\n",
            "Model was saved\n"
          ]
        }
      ]
    },
    {
      "cell_type": "code",
      "source": [
        "evaluation_plot(inc_history.history)"
      ],
      "metadata": {
        "id": "Guena-TSdHUq"
      },
      "execution_count": null,
      "outputs": []
    },
    {
      "cell_type": "markdown",
      "source": [
        "#Potato only"
      ],
      "metadata": {
        "id": "ldwZVuxicChQ"
      }
    },
    {
      "cell_type": "code",
      "source": [
        "import pandas as pd\n",
        "import numpy as np\n",
        "import matplotlib.pyplot as plt\n",
        "import cv2\n",
        "import os\n",
        "import seaborn as sns\n",
        "import tensorflow as tf\n",
        "from tensorflow.keras.models import *\n",
        "from tensorflow.keras.layers import *\n",
        "from tensorflow.keras.preprocessing.image import ImageDataGenerator, img_to_array\n",
        "DATA_PATH = '/content/drive/MyDrive/potato-disease'\n",
        "IMG_SHAPE = (224, 224)\n",
        "INPUT_SHAPE = [224, 224, 3]\n",
        "EPOCHS = 10\n",
        "BS = 32\n",
        "img_data_gen = ImageDataGenerator(rescale=1./255, rotation_range=0.2, horizontal_flip=True, vertical_flip=True,\n",
        "                                 shear_range=0.2, validation_split=0.25)\n",
        "\n",
        "train_data_gen = img_data_gen.flow_from_directory(DATA_PATH, batch_size=BS, subset='training', \n",
        "                                                  class_mode=\"sparse\" , shuffle=True) \n",
        "\n",
        "val_data_gen = img_data_gen.flow_from_directory(DATA_PATH, batch_size=BS, subset='validation', \n",
        "                                                  class_mode=\"sparse\" , shuffle=True)\n",
        "label = train_data_gen.class_indices"
      ],
      "metadata": {
        "colab": {
          "base_uri": "https://localhost:8080/"
        },
        "id": "hPMpmZKKzFW1",
        "outputId": "106fd5df-5c42-4ec9-8c26-a9ce20b1a84b"
      },
      "execution_count": null,
      "outputs": [
        {
          "output_type": "stream",
          "name": "stdout",
          "text": [
            "Found 1621 images belonging to 3 classes.\n",
            "Found 540 images belonging to 3 classes.\n"
          ]
        }
      ]
    },
    {
      "cell_type": "code",
      "source": [
        "def model_building(model_name, INPUT_SHAPE=INPUT_SHAPE):\n",
        "    print('Model Initialization started')\n",
        "    base_model = model_name(include_top=False, weights='imagenet', input_shape=INPUT_SHAPE)\n",
        "    \n",
        "    for layers in base_model.layers:\n",
        "        layers.trainable = False\n",
        "    print('Model Initialization finished')\n",
        "    \n",
        "    #model creation\n",
        "    print('Model creation started')\n",
        "    inp_model = base_model.output\n",
        "    \n",
        "    x = GlobalAveragePooling2D()(inp_model)\n",
        "    x = Dense(128, activation = 'relu')(x)\n",
        "    x = Dense(15, activation = 'sigmoid')(x)\n",
        "    \n",
        "    model = Model(inputs = base_model.input, outputs = x)\n",
        "    \n",
        "    #model summary\n",
        "    print('Model summary')\n",
        "    #model.summary()\n",
        "    \n",
        "    #model compilation\n",
        "    model.compile(\n",
        "        optimizer='adam',\n",
        "        loss=tf.keras.losses.SparseCategoricalCrossentropy(from_logits=False),\n",
        "        metrics=['accuracy']\n",
        "    )\n",
        "    history = model.fit(\n",
        "        train_data_gen,\n",
        "        steps_per_epoch=47,\n",
        "        batch_size=32,\n",
        "        validation_data=val_data_gen,\n",
        "        validation_steps=6,\n",
        "        verbose=1,\n",
        "        #epochs=20,\n",
        "        epochs=10,\n",
        "    )\n",
        "    \n",
        "    print('Model Building Finished')\n",
        "    !mkdir -p saved_model\n",
        "    model.save(f'saved_model/{model_name}_1.h5')\n",
        "    print('Model was saved') \n",
        "\n",
        "    return history"
      ],
      "metadata": {
        "id": "oBZKzbaN4k8E"
      },
      "execution_count": null,
      "outputs": []
    },
    {
      "cell_type": "code",
      "source": [
        "def evaluation_plot(model):\n",
        "    sns.set_style('whitegrid')\n",
        "    \n",
        "    plt.figure(figsize=(10, 8))\n",
        "    plt.plot(model['loss'], label = 'loss')\n",
        "    plt.plot(model['accuracy'], label = 'accuracy')\n",
        "    plt.plot(model['val_loss'], label = 'val_loss')\n",
        "    plt.plot(model['val_accuracy'], label = 'val_accuracy')\n",
        "    plt.legend()\n",
        "    plt.title('Model Evaluation')\n",
        "    plt.show()"
      ],
      "metadata": {
        "id": "9LPm1i5f4xs1"
      },
      "execution_count": null,
      "outputs": []
    },
    {
      "cell_type": "markdown",
      "source": [
        "##Inception V3"
      ],
      "metadata": {
        "id": "86cryrEtzIfW"
      }
    },
    {
      "cell_type": "code",
      "source": [
        "from tensorflow.keras.applications.inception_v3 import InceptionV3"
      ],
      "metadata": {
        "id": "OB8WrxzQzKnV"
      },
      "execution_count": null,
      "outputs": []
    },
    {
      "cell_type": "code",
      "source": [
        "inc_history = model_building(InceptionV3) "
      ],
      "metadata": {
        "colab": {
          "base_uri": "https://localhost:8080/"
        },
        "id": "M4dg1LR43osk",
        "outputId": "b9f2e580-2044-4a72-8b0c-96dbe2600fab"
      },
      "execution_count": null,
      "outputs": [
        {
          "output_type": "stream",
          "name": "stdout",
          "text": [
            "Model Initialization started\n",
            "Model Initialization finished\n",
            "Model creation started\n",
            "Model summary\n",
            "Epoch 1/20\n",
            "47/47 [==============================] - 201s 4s/step - loss: 0.5030 - accuracy: 0.8024 - val_loss: 0.3415 - val_accuracy: 0.8750\n",
            "Epoch 2/20\n",
            "47/47 [==============================] - 179s 4s/step - loss: 0.2123 - accuracy: 0.9324 - val_loss: 0.1891 - val_accuracy: 0.9323\n",
            "Epoch 3/20\n",
            "47/47 [==============================] - 175s 4s/step - loss: 0.1981 - accuracy: 0.9243 - val_loss: 0.2179 - val_accuracy: 0.9375\n",
            "Epoch 4/20\n",
            "47/47 [==============================] - 177s 4s/step - loss: 0.1948 - accuracy: 0.9250 - val_loss: 0.1341 - val_accuracy: 0.9635\n",
            "Epoch 5/20\n",
            "47/47 [==============================] - 177s 4s/step - loss: 0.1338 - accuracy: 0.9524 - val_loss: 0.0995 - val_accuracy: 0.9635\n",
            "Epoch 6/20\n",
            "47/47 [==============================] - 178s 4s/step - loss: 0.1276 - accuracy: 0.9565 - val_loss: 0.1811 - val_accuracy: 0.9167\n",
            "Epoch 7/20\n",
            "47/47 [==============================] - 178s 4s/step - loss: 0.1183 - accuracy: 0.9571 - val_loss: 0.1184 - val_accuracy: 0.9583\n",
            "Epoch 8/20\n",
            "47/47 [==============================] - 178s 4s/step - loss: 0.1078 - accuracy: 0.9625 - val_loss: 0.1327 - val_accuracy: 0.9531\n",
            "Epoch 9/20\n",
            "47/47 [==============================] - 182s 4s/step - loss: 0.0839 - accuracy: 0.9725 - val_loss: 0.1378 - val_accuracy: 0.9479\n",
            "Epoch 10/20\n",
            "47/47 [==============================] - 180s 4s/step - loss: 0.1056 - accuracy: 0.9608 - val_loss: 0.1125 - val_accuracy: 0.9740\n",
            "Epoch 11/20\n",
            "47/47 [==============================] - 179s 4s/step - loss: 0.0814 - accuracy: 0.9652 - val_loss: 0.1171 - val_accuracy: 0.9635\n",
            "Epoch 12/20\n",
            "47/47 [==============================] - 179s 4s/step - loss: 0.0989 - accuracy: 0.9632 - val_loss: 0.1390 - val_accuracy: 0.9479\n",
            "Epoch 13/20\n",
            "47/47 [==============================] - 178s 4s/step - loss: 0.0682 - accuracy: 0.9752 - val_loss: 0.0715 - val_accuracy: 0.9740\n",
            "Epoch 14/20\n",
            "47/47 [==============================] - 181s 4s/step - loss: 0.0736 - accuracy: 0.9725 - val_loss: 0.1153 - val_accuracy: 0.9531\n",
            "Epoch 15/20\n",
            "47/47 [==============================] - 179s 4s/step - loss: 0.0622 - accuracy: 0.9799 - val_loss: 0.1314 - val_accuracy: 0.9688\n",
            "Epoch 16/20\n",
            "47/47 [==============================] - 180s 4s/step - loss: 0.0734 - accuracy: 0.9705 - val_loss: 0.1074 - val_accuracy: 0.9531\n",
            "Epoch 17/20\n",
            "47/47 [==============================] - 179s 4s/step - loss: 0.0711 - accuracy: 0.9739 - val_loss: 0.1701 - val_accuracy: 0.9167\n",
            "Epoch 18/20\n",
            "47/47 [==============================] - 178s 4s/step - loss: 0.0628 - accuracy: 0.9759 - val_loss: 0.1177 - val_accuracy: 0.9740\n",
            "Epoch 19/20\n",
            "47/47 [==============================] - 179s 4s/step - loss: 0.0672 - accuracy: 0.9745 - val_loss: 0.1041 - val_accuracy: 0.9635\n",
            "Epoch 20/20\n",
            "47/47 [==============================] - 178s 4s/step - loss: 0.0513 - accuracy: 0.9806 - val_loss: 0.0776 - val_accuracy: 0.9740\n",
            "Model Building Finished\n",
            "Model was saved\n"
          ]
        }
      ]
    },
    {
      "cell_type": "code",
      "source": [
        "evaluation_plot(inc_history.history)"
      ],
      "metadata": {
        "id": "WRE4oMxM2sIF",
        "colab": {
          "base_uri": "https://localhost:8080/",
          "height": 499
        },
        "outputId": "4bce6601-00d6-403f-c5dd-c5b21497a67b"
      },
      "execution_count": null,
      "outputs": [
        {
          "output_type": "display_data",
          "data": {
            "text/plain": [
              "<Figure size 720x576 with 1 Axes>"
            ],
            "image/png": "[encoded data removed]"
          },
          "metadata": {}
        }
      ]
    },
    {
      "cell_type": "markdown",
      "source": [
        "##VGG-16"
      ],
      "metadata": {
        "id": "0F6v-vpR77xn"
      }
    },
    {
      "cell_type": "code",
      "source": [
        "from tensorflow.keras.applications.vgg16 import VGG16\n",
        "vgg16_hist = model_building(VGG16)"
      ],
      "metadata": {
        "id": "7KhE4sI91P8H",
        "colab": {
          "base_uri": "https://localhost:8080/"
        },
        "outputId": "47f33d28-7e8b-4000-b1cb-d810de6d63f3"
      },
      "execution_count": null,
      "outputs": [
        {
          "output_type": "stream",
          "name": "stdout",
          "text": [
            "Model Initialization started\n",
            "Downloading data from https://storage.googleapis.com/tensorflow/keras-applications/vgg16/vgg16_weights_tf_dim_ordering_tf_kernels_notop.h5\n",
            "58889256/58889256 [==============================] - 1s 0us/step\n",
            "Model Initialization finished\n",
            "Model creation started\n",
            "Model summary\n",
            "Epoch 1/20\n",
            "47/47 [==============================] - 832s 18s/step - loss: 1.0637 - accuracy: 0.6852 - val_loss: 0.5851 - val_accuracy: 0.8698\n",
            "Epoch 2/20\n",
            "47/47 [==============================] - 812s 17s/step - loss: 0.5495 - accuracy: 0.8473 - val_loss: 0.4388 - val_accuracy: 0.8854\n",
            "Epoch 3/20\n",
            "47/47 [==============================] - 803s 17s/step - loss: 0.4310 - accuracy: 0.8721 - val_loss: 0.3937 - val_accuracy: 0.8854\n",
            "Epoch 4/20\n",
            "47/47 [==============================] - 827s 18s/step - loss: 0.3684 - accuracy: 0.8821 - val_loss: 0.3225 - val_accuracy: 0.8802\n",
            "Epoch 5/20\n",
            "47/47 [==============================] - 812s 17s/step - loss: 0.3097 - accuracy: 0.8942 - val_loss: 0.2368 - val_accuracy: 0.9062\n",
            "Epoch 6/20\n",
            "47/47 [==============================] - 827s 18s/step - loss: 0.2731 - accuracy: 0.8982 - val_loss: 0.2401 - val_accuracy: 0.9115\n",
            "Epoch 7/20\n",
            "47/47 [==============================] - 815s 17s/step - loss: 0.2428 - accuracy: 0.9102 - val_loss: 0.2399 - val_accuracy: 0.9010\n",
            "Epoch 8/20\n",
            "47/47 [==============================] - 814s 17s/step - loss: 0.2200 - accuracy: 0.9270 - val_loss: 0.2119 - val_accuracy: 0.9219\n",
            "Epoch 9/20\n",
            "47/47 [==============================] - 807s 17s/step - loss: 0.2073 - accuracy: 0.9236 - val_loss: 0.1974 - val_accuracy: 0.9479\n",
            "Epoch 10/20\n",
            "47/47 [==============================] - 825s 18s/step - loss: 0.2001 - accuracy: 0.9337 - val_loss: 0.2039 - val_accuracy: 0.9323\n",
            "Epoch 11/20\n",
            "47/47 [==============================] - 821s 18s/step - loss: 0.1970 - accuracy: 0.9344 - val_loss: 0.1992 - val_accuracy: 0.9271\n",
            "Epoch 12/20\n",
            "47/47 [==============================] - 825s 18s/step - loss: 0.1691 - accuracy: 0.9404 - val_loss: 0.1807 - val_accuracy: 0.9323\n",
            "Epoch 13/20\n",
            "47/47 [==============================] - 830s 18s/step - loss: 0.1573 - accuracy: 0.9491 - val_loss: 0.1880 - val_accuracy: 0.9115\n",
            "Epoch 14/20\n",
            "47/47 [==============================] - 834s 18s/step - loss: 0.1539 - accuracy: 0.9471 - val_loss: 0.1715 - val_accuracy: 0.9479\n",
            "Epoch 15/20\n",
            "47/47 [==============================] - 860s 18s/step - loss: 0.1523 - accuracy: 0.9504 - val_loss: 0.1200 - val_accuracy: 0.9427\n",
            "Epoch 16/20\n",
            "47/47 [==============================] - 841s 18s/step - loss: 0.1413 - accuracy: 0.9545 - val_loss: 0.1296 - val_accuracy: 0.9583\n",
            "Epoch 17/20\n",
            "47/47 [==============================] - 830s 18s/step - loss: 0.1370 - accuracy: 0.9538 - val_loss: 0.1480 - val_accuracy: 0.9479\n",
            "Epoch 18/20\n",
            "47/47 [==============================] - 837s 18s/step - loss: 0.1276 - accuracy: 0.9565 - val_loss: 0.1469 - val_accuracy: 0.9323\n",
            "Epoch 19/20\n",
            "47/47 [==============================] - 853s 18s/step - loss: 0.1261 - accuracy: 0.9504 - val_loss: 0.1372 - val_accuracy: 0.9583\n",
            "Epoch 20/20\n",
            "47/47 [==============================] - 817s 17s/step - loss: 0.1192 - accuracy: 0.9632 - val_loss: 0.1550 - val_accuracy: 0.9479\n",
            "Model Building Finished\n",
            "Model was saved\n"
          ]
        }
      ]
    },
    {
      "cell_type": "code",
      "source": [
        "evaluation_plot(vgg16_hist.history)"
      ],
      "metadata": {
        "id": "WFGUJerO2cGk",
        "colab": {
          "base_uri": "https://localhost:8080/",
          "height": 499
        },
        "outputId": "3ad30e39-0e32-4dd1-8786-26d7bdd164e4"
      },
      "execution_count": null,
      "outputs": [
        {
          "output_type": "display_data",
          "data": {
            "text/plain": [
              "<Figure size 720x576 with 1 Axes>"
            ],
            "image/png": "[encoded data removed]"
          },
          "metadata": {}
        }
      ]
    },
    {
      "cell_type": "markdown",
      "source": [
        "##VGG-19"
      ],
      "metadata": {
        "id": "5Wlv_uGxnN16"
      }
    },
    {
      "cell_type": "code",
      "source": [
        "from tensorflow.keras.applications.vgg19 import VGG19\n",
        "vgg19_hist = model_building(VGG19) "
      ],
      "metadata": {
        "id": "XimptKvRv3r8",
        "colab": {
          "base_uri": "https://localhost:8080/"
        },
        "outputId": "4b11ce6c-7787-4f2b-d39e-dbce119e3f14"
      },
      "execution_count": null,
      "outputs": [
        {
          "output_type": "stream",
          "name": "stdout",
          "text": [
            "Model Initialization started\n",
            "Model Initialization finished\n",
            "Model creation started\n",
            "Model summary\n",
            "Epoch 1/10\n",
            "47/47 [==============================] - 998s 21s/step - loss: 0.9583 - accuracy: 0.6222 - val_loss: 0.6118 - val_accuracy: 0.8229\n",
            "Epoch 2/10\n",
            "47/47 [==============================] - 985s 21s/step - loss: 0.5790 - accuracy: 0.8131 - val_loss: 0.5242 - val_accuracy: 0.7969\n",
            "Epoch 3/10\n",
            "47/47 [==============================] - 987s 21s/step - loss: 0.4602 - accuracy: 0.8617 - val_loss: 0.4003 - val_accuracy: 0.8958\n",
            "Epoch 4/10\n",
            "47/47 [==============================] - 981s 21s/step - loss: 0.3854 - accuracy: 0.8855 - val_loss: 0.3463 - val_accuracy: 0.8958\n",
            "Epoch 5/10\n",
            "47/47 [==============================] - 978s 21s/step - loss: 0.3272 - accuracy: 0.9002 - val_loss: 0.3234 - val_accuracy: 0.8750\n",
            "Epoch 6/10\n",
            "47/47 [==============================] - 981s 21s/step - loss: 0.2956 - accuracy: 0.9029 - val_loss: 0.2632 - val_accuracy: 0.9167\n",
            "Epoch 7/10\n",
            "47/47 [==============================] - 979s 21s/step - loss: 0.2579 - accuracy: 0.9136 - val_loss: 0.2831 - val_accuracy: 0.8854\n",
            "Epoch 8/10\n",
            "47/47 [==============================] - 981s 21s/step - loss: 0.2431 - accuracy: 0.9190 - val_loss: 0.2497 - val_accuracy: 0.9115\n",
            "Epoch 9/10\n",
            "47/47 [==============================] - 981s 21s/step - loss: 0.2282 - accuracy: 0.9196 - val_loss: 0.2510 - val_accuracy: 0.9323\n",
            "Epoch 10/10\n",
            "47/47 [==============================] - 980s 21s/step - loss: 0.2065 - accuracy: 0.9357 - val_loss: 0.2444 - val_accuracy: 0.9271\n",
            "Model Building Finished\n",
            "Model was saved\n"
          ]
        }
      ]
    },
    {
      "cell_type": "code",
      "source": [
        "evaluation_plot(vgg19_hist.history)"
      ],
      "metadata": {
        "colab": {
          "base_uri": "https://localhost:8080/",
          "height": 499
        },
        "id": "_cyObWS4xIdj",
        "outputId": "cca3dfe9-0ff0-41ee-dc8a-7dbf6613baaf"
      },
      "execution_count": null,
      "outputs": [
        {
          "output_type": "display_data",
          "data": {
            "text/plain": [
              "<Figure size 720x576 with 1 Axes>"
            ],
            "image/png": "[encoded data removed]"
          },
          "metadata": {}
        }
      ]
    },
    {
      "cell_type": "markdown",
      "source": [
        "##Plots"
      ],
      "metadata": {
        "id": "pbzF91P50KMk"
      }
    },
    {
      "cell_type": "code",
      "source": [
        "from mpl_toolkits.mplot3d import Axes3D\n",
        "from sklearn.preprocessing import StandardScaler\n",
        "import matplotlib.pyplot as plt # plotting\n",
        "import numpy as np # linear algebra\n",
        "import os # accessing directory structure\n",
        "import pandas as pd # data processing, CSV file I/O (e.g. pd.read_csv)"
      ],
      "metadata": {
        "id": "CGIo4zvnz1Vr"
      },
      "execution_count": null,
      "outputs": []
    },
    {
      "cell_type": "code",
      "source": [
        "print(os.listdir('/content/drive/MyDrive/PlantVillage'))"
      ],
      "metadata": {
        "id": "2zZr1nMfz2CP",
        "colab": {
          "base_uri": "https://localhost:8080/"
        },
        "outputId": "5f321e50-ca3a-4ea4-a2d9-31bd8c163792"
      },
      "execution_count": null,
      "outputs": [
        {
          "output_type": "stream",
          "name": "stdout",
          "text": [
            "['data']\n"
          ]
        }
      ]
    },
    {
      "cell_type": "code",
      "source": [
        "\n",
        "# Distribution graphs (histogram/bar graph) of column data\n",
        "def plotPerColumnDistribution(df, nGraphShown, nGraphPerRow):\n",
        "    nunique = df.nunique()\n",
        "    df = df[[col for col in df if nunique[col] > 1 and nunique[col] < 50]] # For displaying purposes, pick columns that have between 1 and 50 unique values\n",
        "    nRow, nCol = df.shape\n",
        "    columnNames = list(df)\n",
        "    nGraphRow = (nCol + nGraphPerRow - 1) / nGraphPerRow\n",
        "    plt.figure(num = None, figsize = (6 * nGraphPerRow, 8 * nGraphRow), dpi = 80, facecolor = 'w', edgecolor = 'k')\n",
        "    for i in range(min(nCol, nGraphShown)):\n",
        "        plt.subplot(nGraphRow, nGraphPerRow, i + 1)\n",
        "        columnDf = df.iloc[:, i]\n",
        "        if (not np.issubdtype(type(columnDf.iloc[0]), np.number)):\n",
        "            valueCounts = columnDf.value_counts()\n",
        "            valueCounts.plot.bar()\n",
        "        else:\n",
        "            columnDf.hist()\n",
        "        plt.ylabel('counts')\n",
        "        plt.xticks(rotation = 90)\n",
        "        plt.title(f'{columnNames[i]} (column {i})')\n",
        "    plt.tight_layout(pad = 1.0, w_pad = 1.0, h_pad = 1.0)\n",
        "    plt.show()"
      ],
      "metadata": {
        "id": "EQ7vThXkz80h"
      },
      "execution_count": null,
      "outputs": []
    },
    {
      "cell_type": "code",
      "source": [
        "# Correlation matrix\n",
        "def plotCorrelationMatrix(df, graphWidth):\n",
        "    filename = df.dataframeName\n",
        "    df = df.dropna('columns') # drop columns with NaN\n",
        "    df = df[[col for col in df if df[col].nunique() > 1]] # keep columns where there are more than 1 unique values\n",
        "    if df.shape[1] < 2:\n",
        "        print(f'No correlation plots shown: The number of non-NaN or constant columns ({df.shape[1]}) is less than 2')\n",
        "        return\n",
        "    corr = df.corr()\n",
        "    plt.figure(num=None, figsize=(graphWidth, graphWidth), dpi=80, facecolor='w', edgecolor='k')\n",
        "    corrMat = plt.matshow(corr, fignum = 1)\n",
        "    plt.xticks(range(len(corr.columns)), corr.columns, rotation=90)\n",
        "    plt.yticks(range(len(corr.columns)), corr.columns)\n",
        "    plt.gca().xaxis.tick_bottom()\n",
        "    plt.colorbar(corrMat)\n",
        "    plt.title(f'Correlation Matrix for {filename}', fontsize=15)\n",
        "    plt.show()"
      ],
      "metadata": {
        "id": "1mhD9-sl0B8C"
      },
      "execution_count": null,
      "outputs": []
    },
    {
      "cell_type": "code",
      "source": [
        "# Scatter and density plots\n",
        "def plotScatterMatrix(df, plotSize, textSize):\n",
        "    df = df.select_dtypes(include =[np.number]) # keep only numerical columns\n",
        "    # Remove rows and columns that would lead to df being singular\n",
        "    df = df.dropna('columns')\n",
        "    df = df[[col for col in df if df[col].nunique() > 1]] # keep columns where there are more than 1 unique values\n",
        "    columnNames = list(df)\n",
        "    if len(columnNames) > 10: # reduce the number of columns for matrix inversion of kernel density plots\n",
        "        columnNames = columnNames[:10]\n",
        "    df = df[columnNames]\n",
        "    ax = pd.plotting.scatter_matrix(df, alpha=0.75, figsize=[plotSize, plotSize], diagonal='kde')\n",
        "    corrs = df.corr().values\n",
        "    for i, j in zip(*plt.np.triu_indices_from(ax, k = 1)):\n",
        "        ax[i, j].annotate('Corr. coef = %.3f' % corrs[i, j], (0.8, 0.2), xycoords='axes fraction', ha='center', va='center', size=textSize)\n",
        "    plt.suptitle('Scatter and Density Plot')\n",
        "    plt.show()"
      ],
      "metadata": {
        "id": "H3CjYQi20E3k"
      },
      "execution_count": null,
      "outputs": []
    },
    {
      "cell_type": "markdown",
      "source": [
        "##MobileNet"
      ],
      "metadata": {
        "id": "kz5l9yDpxzOp"
      }
    },
    {
      "cell_type": "code",
      "source": [
        "import tensorflow as tf\n",
        "from tensorflow.keras.applications.resnet50 import ResNet50\n",
        "from tensorflow.keras.applications import MobileNetV2\n",
        "from tensorflow.keras.models import Sequential\n",
        "from tensorflow.keras.layers import Flatten\n",
        "from tensorflow.keras.layers import Dense\n",
        "import numpy as np\n",
        "from itertools import cycle\n",
        "from sklearn import svm, datasets\n",
        "from sklearn.metrics import roc_curve, auc\n",
        "from sklearn.model_selection import train_test_split\n",
        "from sklearn.preprocessing import label_binarize\n",
        "from sklearn.multiclass import OneVsRestClassifier\n",
        "from scipy import interp\n",
        "from sklearn.metrics import roc_auc_score\n",
        "\n",
        "model = Sequential()\n",
        "model.add(MobileNetV2(include_top = False, weights=\"imagenet\", input_shape=(200, 200, 3)))\n",
        "model.add(tf.keras.layers.GlobalAveragePooling2D())\n",
        "model.add(Dense(1, activation = 'sigmoid'))\n",
        "model.layers[0].trainable = False"
      ],
      "metadata": {
        "id": "x-7JVo-Bx1lG",
        "colab": {
          "base_uri": "https://localhost:8080/"
        },
        "outputId": "38c52821-110f-45a1-b93a-738c9e3d17ee"
      },
      "execution_count": null,
      "outputs": [
        {
          "output_type": "stream",
          "name": "stderr",
          "text": [
            "WARNING:tensorflow:`input_shape` is undefined or non-square, or `rows` is not in [96, 128, 160, 192, 224]. Weights for input shape (224, 224) will be loaded as the default.\n"
          ]
        },
        {
          "output_type": "stream",
          "name": "stdout",
          "text": [
            "Downloading data from https://storage.googleapis.com/tensorflow/keras-applications/mobilenet_v2/mobilenet_v2_weights_tf_dim_ordering_tf_kernels_1.0_224_no_top.h5\n",
            "9406464/9406464 [==============================] - 0s 0us/step\n"
          ]
        }
      ]
    },
    {
      "cell_type": "code",
      "source": [
        "model.summary()"
      ],
      "metadata": {
        "id": "yV6-LBfax1g_",
        "colab": {
          "base_uri": "https://localhost:8080/"
        },
        "outputId": "7a4b51e4-1cff-4a3d-f7fd-2c05b34f7aa4"
      },
      "execution_count": null,
      "outputs": [
        {
          "output_type": "stream",
          "name": "stdout",
          "text": [
            "Model: \"sequential\"\n",
            "_________________________________________________________________\n",
            " Layer (type)                Output Shape              Param #   \n",
            "=================================================================\n",
            " mobilenetv2_1.00_224 (Funct  (None, 7, 7, 1280)       2257984   \n",
            " ional)                                                          \n",
            "                                                                 \n",
            " global_average_pooling2d_2   (None, 1280)             0         \n",
            " (GlobalAveragePooling2D)                                        \n",
            "                                                                 \n",
            " dense_4 (Dense)             (None, 1)                 1281      \n",
            "                                                                 \n",
            "=================================================================\n",
            "Total params: 2,259,265\n",
            "Trainable params: 1,281\n",
            "Non-trainable params: 2,257,984\n",
            "_________________________________________________________________\n"
          ]
        }
      ]
    },
    {
      "cell_type": "code",
      "source": [
        "from tensorflow.keras.optimizers import RMSprop\n",
        "# model.compile(loss='binary_crossentropy',\n",
        "#               optimizer=RMSprop(lr=0.001),\n",
        "#               metrics=['accuracy', tf.keras.metrics.AUC()])\n",
        "from tensorflow.keras import optimizers\n",
        "model.compile(optimizer=RMSprop(learning_rate=0.01), loss = 'binary_crossentropy', metrics = 'accuracy')\n",
        "import time\n",
        "st=time.perf_counter()\n",
        "history = model.fit(\n",
        "      train_data_gen,\n",
        "      steps_per_epoch=8,  \n",
        "      epochs=20,\n",
        "      verbose=1,\n",
        "      validation_data = val_data_gen,\n",
        "      validation_steps=8)\n",
        "nd=time.perf_counter()"
      ],
      "metadata": {
        "id": "bB4Y1Tf5x_dh",
        "colab": {
          "base_uri": "https://localhost:8080/"
        },
        "outputId": "612ec00d-78b2-4c19-e4f7-3f7ca682f3ff"
      },
      "execution_count": null,
      "outputs": [
        {
          "output_type": "stream",
          "name": "stdout",
          "text": [
            "Epoch 1/20\n",
            "8/8 [==============================] - 252s 33s/step - loss: 1.1372 - accuracy: 0.6328 - val_loss: 0.1245 - val_accuracy: 0.6562\n",
            "Epoch 2/20\n",
            "8/8 [==============================] - 168s 22s/step - loss: 0.1837 - accuracy: 0.7695 - val_loss: -0.2415 - val_accuracy: 0.8711\n",
            "Epoch 3/20\n",
            "8/8 [==============================] - 111s 14s/step - loss: -0.4028 - accuracy: 0.8281 - val_loss: -0.1748 - val_accuracy: 0.7188\n",
            "Epoch 4/20\n",
            "8/8 [==============================] - 89s 11s/step - loss: -0.7880 - accuracy: 0.7930 - val_loss: -0.4610 - val_accuracy: 0.6797\n",
            "Epoch 5/20\n",
            "8/8 [==============================] - 64s 8s/step - loss: -0.4309 - accuracy: 0.8125 - val_loss: -0.9406 - val_accuracy: 0.8984\n",
            "Epoch 6/20\n",
            "8/8 [==============================] - 59s 8s/step - loss: -0.9985 - accuracy: 0.8125 - val_loss: -1.0721 - val_accuracy: 0.8789\n",
            "Epoch 7/20\n",
            "8/8 [==============================] - 49s 6s/step - loss: -1.1345 - accuracy: 0.8516 - val_loss: -1.8088 - val_accuracy: 0.8789\n",
            "Epoch 8/20\n",
            "8/8 [==============================] - 49s 6s/step - loss: -1.3527 - accuracy: 0.8477 - val_loss: -1.4263 - val_accuracy: 0.8867\n",
            "Epoch 9/20\n",
            "8/8 [==============================] - 35s 4s/step - loss: -3.0959 - accuracy: 0.7617 - val_loss: -2.2890 - val_accuracy: 0.7852\n",
            "Epoch 10/20\n",
            "8/8 [==============================] - 42s 6s/step - loss: -0.4897 - accuracy: 0.8816 - val_loss: -2.1521 - val_accuracy: 0.8789\n",
            "Epoch 11/20\n",
            "8/8 [==============================] - 31s 4s/step - loss: -2.1416 - accuracy: 0.8327 - val_loss: -1.8022 - val_accuracy: 0.8984\n",
            "Epoch 12/20\n",
            "8/8 [==============================] - 33s 4s/step - loss: -1.7190 - accuracy: 0.9023 - val_loss: -2.9851 - val_accuracy: 0.8164\n",
            "Epoch 13/20\n",
            "8/8 [==============================] - 24s 3s/step - loss: -2.9157 - accuracy: 0.8125 - val_loss: -2.5089 - val_accuracy: 0.8672\n",
            "Epoch 14/20\n",
            "8/8 [==============================] - 30s 4s/step - loss: -1.6521 - accuracy: 0.8633 - val_loss: -2.5594 - val_accuracy: 0.9023\n",
            "Epoch 15/20\n",
            "8/8 [==============================] - 26s 3s/step - loss: -2.3830 - accuracy: 0.8672 - val_loss: -2.1353 - val_accuracy: 0.9102\n",
            "Epoch 16/20\n",
            "8/8 [==============================] - 25s 3s/step - loss: -3.6628 - accuracy: 0.8477 - val_loss: -3.4066 - val_accuracy: 0.8438\n",
            "Epoch 17/20\n",
            "8/8 [==============================] - 27s 4s/step - loss: -3.2842 - accuracy: 0.8555 - val_loss: -1.7739 - val_accuracy: 0.9062\n",
            "Epoch 18/20\n",
            "8/8 [==============================] - 23s 3s/step - loss: -4.5150 - accuracy: 0.8203 - val_loss: -3.4201 - val_accuracy: 0.8945\n",
            "Epoch 19/20\n",
            "8/8 [==============================] - 23s 3s/step - loss: -5.9795 - accuracy: 0.8047 - val_loss: -6.4448 - val_accuracy: 0.8398\n",
            "Epoch 20/20\n",
            "8/8 [==============================] - 22s 3s/step - loss: -5.7172 - accuracy: 0.7969 - val_loss: -4.1715 - val_accuracy: 0.8633\n"
          ]
        }
      ]
    },
    {
      "cell_type": "code",
      "source": [
        "print(\"train_time: \",nd-st);"
      ],
      "metadata": {
        "id": "ndVih3JdyCl5",
        "colab": {
          "base_uri": "https://localhost:8080/"
        },
        "outputId": "83fb79df-ae39-4a9d-f17c-08874ccabe3d"
      },
      "execution_count": null,
      "outputs": [
        {
          "output_type": "stream",
          "name": "stdout",
          "text": [
            "train_time:  1491.661049285\n"
          ]
        }
      ]
    },
    {
      "cell_type": "code",
      "source": [
        "model.evaluate(val_data_gen)"
      ],
      "metadata": {
        "id": "K10DexKVyCht",
        "colab": {
          "base_uri": "https://localhost:8080/"
        },
        "outputId": "f5e68c37-0aea-4ea7-fe5b-3c2f8e8a6785"
      },
      "execution_count": null,
      "outputs": [
        {
          "output_type": "stream",
          "name": "stdout",
          "text": [
            "17/17 [==============================] - 22s 1s/step - loss: -4.6155 - accuracy: 0.8759\n"
          ]
        },
        {
          "output_type": "execute_result",
          "data": {
            "text/plain": [
              "[-4.615456581115723, 0.8759258985519409]"
            ]
          },
          "metadata": {},
          "execution_count": 12
        }
      ]
    },
    {
      "cell_type": "code",
      "source": [
        "model.save('mnet.h5')"
      ],
      "metadata": {
        "id": "RJAjVBQ1yRUa"
      },
      "execution_count": null,
      "outputs": []
    },
    {
      "cell_type": "code",
      "source": [
        "STEP_SIZE_TEST=val_data_gen.n//val_data_gen.batch_size\n",
        "val_data_gen.reset()\n",
        "preds = model.predict(val_data_gen,\n",
        "                      verbose=1)"
      ],
      "metadata": {
        "id": "6_OA0y5LyKv2",
        "colab": {
          "base_uri": "https://localhost:8080/"
        },
        "outputId": "660ce624-7f0f-403d-e038-c907653cd5a3"
      },
      "execution_count": null,
      "outputs": [
        {
          "output_type": "stream",
          "name": "stdout",
          "text": [
            "17/17 [==============================] - 27s 1s/step\n"
          ]
        }
      ]
    },
    {
      "cell_type": "code",
      "source": [
        "fpr, tpr, thresholds = roc_curve(val_data_gen.classes, preds, pos_label=1)"
      ],
      "metadata": {
        "id": "mMDHfWSayKrs"
      },
      "execution_count": null,
      "outputs": []
    },
    {
      "cell_type": "code",
      "source": [
        "roc_auc = auc(fpr, tpr)"
      ],
      "metadata": {
        "id": "t4WbUI7OyKnR"
      },
      "execution_count": null,
      "outputs": []
    },
    {
      "cell_type": "code",
      "source": [
        "plt.figure()\n",
        "lw = 2\n",
        "plt.plot(fpr, tpr, color='darkorange',\n",
        "         lw=lw, label='ROC curve (area = %0.2f)' % roc_auc)\n",
        "plt.plot([0, 1], [0, 1], color='navy', lw=lw, linestyle='--')\n",
        "plt.xlim([0.0, 1.0])\n",
        "plt.ylim([0.0, 1.05])\n",
        "plt.xlabel('False Positive Rate')\n",
        "plt.ylabel('True Positive Rate')\n",
        "plt.title('Receiver Operating Characteristic')\n",
        "plt.legend(loc=\"lower right\")\n",
        "plt.show()"
      ],
      "metadata": {
        "id": "wKfVBRP-yRYY",
        "colab": {
          "base_uri": "https://localhost:8080/",
          "height": 295
        },
        "outputId": "b36b34c7-7523-45ca-c0bc-4e7ffab7171f"
      },
      "execution_count": null,
      "outputs": [
        {
          "output_type": "display_data",
          "data": {
            "text/plain": [
              "<Figure size 432x288 with 1 Axes>"
            ],
            "image/png": "[encoded data removed]"
          },
          "metadata": {
            "needs_background": "light"
          }
        }
      ]
    },
    {
      "cell_type": "markdown",
      "source": [
        "##SqueezeNet"
      ],
      "metadata": {
        "id": "XqKPkUGLyYK_"
      }
    },
    {
      "cell_type": "code",
      "source": [
        "bnmomemtum=0.9\n",
        "def fire(x, squeeze, expand):\n",
        "    y  = tf.keras.layers.Conv2D(filters=squeeze, kernel_size=1, activation='relu', padding='same')(x)\n",
        "    y = tf.keras.layers.BatchNormalization(momentum=bnmomemtum)(y)\n",
        "    y1 = tf.keras.layers.Conv2D(filters=expand//2, kernel_size=1, activation='relu', padding='same')(y)\n",
        "    y1 = tf.keras.layers.BatchNormalization(momentum=bnmomemtum)(y1)\n",
        "    y3 = tf.keras.layers.Conv2D(filters=expand//2, kernel_size=3, activation='relu', padding='same')(y)\n",
        "    y3 = tf.keras.layers.BatchNormalization(momentum=bnmomemtum)(y3)\n",
        "    return tf.keras.layers.concatenate([y1, y3])\n",
        "\n",
        "def fire_module(squeeze, expand):\n",
        "    return lambda x: fire(x, squeeze, expand)\n",
        "x = tf.keras.layers.Input(shape=[200,200, 3]) # input is 200x200 pixels RGB\n",
        "y = tf.keras.layers.Conv2D(kernel_size=3, filters=32, padding='same', use_bias=True, activation='relu')(x)\n",
        "y = tf.keras.layers.BatchNormalization(momentum=bnmomemtum)(y)\n",
        "y = fire_module(24, 48)(y)\n",
        "y = tf.keras.layers.MaxPooling2D(pool_size=2)(y)\n",
        "y = fire_module(48, 96)(y)\n",
        "y = tf.keras.layers.MaxPooling2D(pool_size=2)(y)\n",
        "y = fire_module(64, 128)(y)\n",
        "y = tf.keras.layers.MaxPooling2D(pool_size=2)(y)\n",
        "y = fire_module(48, 96)(y)\n",
        "y = tf.keras.layers.MaxPooling2D(pool_size=2)(y)\n",
        "y = fire_module(24, 48)(y)\n",
        "y = tf.keras.layers.GlobalAveragePooling2D()(y)\n",
        "y = tf.keras.layers.Dense(1, activation='sigmoid')(y)\n",
        "\n",
        "model2 = tf.keras.Model(x, y)\n",
        "\n",
        "model2.compile(\n",
        "optimizer='adam',\n",
        "loss= 'binary_crossentropy',\n",
        "metrics=['accuracy'])\n",
        "model2.summary()"
      ],
      "metadata": {
        "id": "cSH73_3JyRQJ",
        "colab": {
          "base_uri": "https://localhost:8080/"
        },
        "outputId": "a2fc2f8d-197d-4699-c76e-5d73082de944"
      },
      "execution_count": null,
      "outputs": [
        {
          "output_type": "stream",
          "name": "stdout",
          "text": [
            "Model: \"model_1\"\n",
            "__________________________________________________________________________________________________\n",
            " Layer (type)                   Output Shape         Param #     Connected to                     \n",
            "==================================================================================================\n",
            " input_3 (InputLayer)           [(None, 200, 200, 3  0           []                               \n",
            "                                )]                                                                \n",
            "                                                                                                  \n",
            " conv2d_16 (Conv2D)             (None, 200, 200, 32  896         ['input_3[0][0]']                \n",
            "                                )                                                                 \n",
            "                                                                                                  \n",
            " batch_normalization_16 (BatchN  (None, 200, 200, 32  128        ['conv2d_16[0][0]']              \n",
            " ormalization)                  )                                                                 \n",
            "                                                                                                  \n",
            " conv2d_17 (Conv2D)             (None, 200, 200, 24  792         ['batch_normalization_16[0][0]'] \n",
            "                                )                                                                 \n",
            "                                                                                                  \n",
            " batch_normalization_17 (BatchN  (None, 200, 200, 24  96         ['conv2d_17[0][0]']              \n",
            " ormalization)                  )                                                                 \n",
            "                                                                                                  \n",
            " conv2d_18 (Conv2D)             (None, 200, 200, 24  600         ['batch_normalization_17[0][0]'] \n",
            "                                )                                                                 \n",
            "                                                                                                  \n",
            " conv2d_19 (Conv2D)             (None, 200, 200, 24  5208        ['batch_normalization_17[0][0]'] \n",
            "                                )                                                                 \n",
            "                                                                                                  \n",
            " batch_normalization_18 (BatchN  (None, 200, 200, 24  96         ['conv2d_18[0][0]']              \n",
            " ormalization)                  )                                                                 \n",
            "                                                                                                  \n",
            " batch_normalization_19 (BatchN  (None, 200, 200, 24  96         ['conv2d_19[0][0]']              \n",
            " ormalization)                  )                                                                 \n",
            "                                                                                                  \n",
            " concatenate_5 (Concatenate)    (None, 200, 200, 48  0           ['batch_normalization_18[0][0]', \n",
            "                                )                                 'batch_normalization_19[0][0]'] \n",
            "                                                                                                  \n",
            " max_pooling2d_4 (MaxPooling2D)  (None, 100, 100, 48  0          ['concatenate_5[0][0]']          \n",
            "                                )                                                                 \n",
            "                                                                                                  \n",
            " conv2d_20 (Conv2D)             (None, 100, 100, 48  2352        ['max_pooling2d_4[0][0]']        \n",
            "                                )                                                                 \n",
            "                                                                                                  \n",
            " batch_normalization_20 (BatchN  (None, 100, 100, 48  192        ['conv2d_20[0][0]']              \n",
            " ormalization)                  )                                                                 \n",
            "                                                                                                  \n",
            " conv2d_21 (Conv2D)             (None, 100, 100, 48  2352        ['batch_normalization_20[0][0]'] \n",
            "                                )                                                                 \n",
            "                                                                                                  \n",
            " conv2d_22 (Conv2D)             (None, 100, 100, 48  20784       ['batch_normalization_20[0][0]'] \n",
            "                                )                                                                 \n",
            "                                                                                                  \n",
            " batch_normalization_21 (BatchN  (None, 100, 100, 48  192        ['conv2d_21[0][0]']              \n",
            " ormalization)                  )                                                                 \n",
            "                                                                                                  \n",
            " batch_normalization_22 (BatchN  (None, 100, 100, 48  192        ['conv2d_22[0][0]']              \n",
            " ormalization)                  )                                                                 \n",
            "                                                                                                  \n",
            " concatenate_6 (Concatenate)    (None, 100, 100, 96  0           ['batch_normalization_21[0][0]', \n",
            "                                )                                 'batch_normalization_22[0][0]'] \n",
            "                                                                                                  \n",
            " max_pooling2d_5 (MaxPooling2D)  (None, 50, 50, 96)  0           ['concatenate_6[0][0]']          \n",
            "                                                                                                  \n",
            " conv2d_23 (Conv2D)             (None, 50, 50, 64)   6208        ['max_pooling2d_5[0][0]']        \n",
            "                                                                                                  \n",
            " batch_normalization_23 (BatchN  (None, 50, 50, 64)  256         ['conv2d_23[0][0]']              \n",
            " ormalization)                                                                                    \n",
            "                                                                                                  \n",
            " conv2d_24 (Conv2D)             (None, 50, 50, 64)   4160        ['batch_normalization_23[0][0]'] \n",
            "                                                                                                  \n",
            " conv2d_25 (Conv2D)             (None, 50, 50, 64)   36928       ['batch_normalization_23[0][0]'] \n",
            "                                                                                                  \n",
            " batch_normalization_24 (BatchN  (None, 50, 50, 64)  256         ['conv2d_24[0][0]']              \n",
            " ormalization)                                                                                    \n",
            "                                                                                                  \n",
            " batch_normalization_25 (BatchN  (None, 50, 50, 64)  256         ['conv2d_25[0][0]']              \n",
            " ormalization)                                                                                    \n",
            "                                                                                                  \n",
            " concatenate_7 (Concatenate)    (None, 50, 50, 128)  0           ['batch_normalization_24[0][0]', \n",
            "                                                                  'batch_normalization_25[0][0]'] \n",
            "                                                                                                  \n",
            " max_pooling2d_6 (MaxPooling2D)  (None, 25, 25, 128)  0          ['concatenate_7[0][0]']          \n",
            "                                                                                                  \n",
            " conv2d_26 (Conv2D)             (None, 25, 25, 48)   6192        ['max_pooling2d_6[0][0]']        \n",
            "                                                                                                  \n",
            " batch_normalization_26 (BatchN  (None, 25, 25, 48)  192         ['conv2d_26[0][0]']              \n",
            " ormalization)                                                                                    \n",
            "                                                                                                  \n",
            " conv2d_27 (Conv2D)             (None, 25, 25, 48)   2352        ['batch_normalization_26[0][0]'] \n",
            "                                                                                                  \n",
            " conv2d_28 (Conv2D)             (None, 25, 25, 48)   20784       ['batch_normalization_26[0][0]'] \n",
            "                                                                                                  \n",
            " batch_normalization_27 (BatchN  (None, 25, 25, 48)  192         ['conv2d_27[0][0]']              \n",
            " ormalization)                                                                                    \n",
            "                                                                                                  \n",
            " batch_normalization_28 (BatchN  (None, 25, 25, 48)  192         ['conv2d_28[0][0]']              \n",
            " ormalization)                                                                                    \n",
            "                                                                                                  \n",
            " concatenate_8 (Concatenate)    (None, 25, 25, 96)   0           ['batch_normalization_27[0][0]', \n",
            "                                                                  'batch_normalization_28[0][0]'] \n",
            "                                                                                                  \n",
            " max_pooling2d_7 (MaxPooling2D)  (None, 12, 12, 96)  0           ['concatenate_8[0][0]']          \n",
            "                                                                                                  \n",
            " conv2d_29 (Conv2D)             (None, 12, 12, 24)   2328        ['max_pooling2d_7[0][0]']        \n",
            "                                                                                                  \n",
            " batch_normalization_29 (BatchN  (None, 12, 12, 24)  96          ['conv2d_29[0][0]']              \n",
            " ormalization)                                                                                    \n",
            "                                                                                                  \n",
            " conv2d_30 (Conv2D)             (None, 12, 12, 24)   600         ['batch_normalization_29[0][0]'] \n",
            "                                                                                                  \n",
            " conv2d_31 (Conv2D)             (None, 12, 12, 24)   5208        ['batch_normalization_29[0][0]'] \n",
            "                                                                                                  \n",
            " batch_normalization_30 (BatchN  (None, 12, 12, 24)  96          ['conv2d_30[0][0]']              \n",
            " ormalization)                                                                                    \n",
            "                                                                                                  \n",
            " batch_normalization_31 (BatchN  (None, 12, 12, 24)  96          ['conv2d_31[0][0]']              \n",
            " ormalization)                                                                                    \n",
            "                                                                                                  \n",
            " concatenate_9 (Concatenate)    (None, 12, 12, 48)   0           ['batch_normalization_30[0][0]', \n",
            "                                                                  'batch_normalization_31[0][0]'] \n",
            "                                                                                                  \n",
            " global_average_pooling2d_2 (Gl  (None, 48)          0           ['concatenate_9[0][0]']          \n",
            " obalAveragePooling2D)                                                                            \n",
            "                                                                                                  \n",
            " dense_2 (Dense)                (None, 1)            49          ['global_average_pooling2d_2[0][0\n",
            "                                                                 ]']                              \n",
            "                                                                                                  \n",
            "==================================================================================================\n",
            "Total params: 120,417\n",
            "Trainable params: 119,105\n",
            "Non-trainable params: 1,312\n",
            "__________________________________________________________________________________________________\n"
          ]
        }
      ]
    },
    {
      "cell_type": "code",
      "source": [
        "st=time.perf_counter()\n",
        "history = model2.fit(\n",
        "      train_data_gen,\n",
        "      steps_per_epoch=8,  \n",
        "      epochs=20,\n",
        "      verbose=1,\n",
        "      validation_data = val_data_gen,\n",
        "      validation_steps=8)\n",
        "nd=time.perf_counter()"
      ],
      "metadata": {
        "id": "NGBJQE3vyhHL",
        "colab": {
          "base_uri": "https://localhost:8080/"
        },
        "outputId": "08162125-694c-4986-89ea-df4f0e07bef4"
      },
      "execution_count": null,
      "outputs": [
        {
          "output_type": "stream",
          "name": "stdout",
          "text": [
            "Epoch 1/20\n",
            "8/8 [==============================] - 113s 14s/step - loss: 0.1359 - accuracy: 0.8359 - val_loss: 0.6626 - val_accuracy: 0.4727\n",
            "Epoch 2/20\n",
            "8/8 [==============================] - 107s 14s/step - loss: -0.1690 - accuracy: 0.9023 - val_loss: 0.7842 - val_accuracy: 0.4570\n",
            "Epoch 3/20\n",
            "8/8 [==============================] - 104s 13s/step - loss: -0.3770 - accuracy: 0.9062 - val_loss: 0.9626 - val_accuracy: 0.4805\n",
            "Epoch 4/20\n",
            "8/8 [==============================] - 106s 13s/step - loss: -0.7033 - accuracy: 0.8984 - val_loss: 0.9582 - val_accuracy: 0.4688\n",
            "Epoch 5/20\n",
            "8/8 [==============================] - 103s 13s/step - loss: -0.9015 - accuracy: 0.8694 - val_loss: 0.6071 - val_accuracy: 0.4609\n",
            "Epoch 6/20\n",
            "8/8 [==============================] - 107s 14s/step - loss: -0.8226 - accuracy: 0.8984 - val_loss: 0.1325 - val_accuracy: 0.8789\n",
            "Epoch 7/20\n",
            "8/8 [==============================] - 109s 14s/step - loss: -1.1650 - accuracy: 0.8828 - val_loss: 0.2896 - val_accuracy: 0.7305\n",
            "Epoch 8/20\n",
            "8/8 [==============================] - 106s 14s/step - loss: -0.8913 - accuracy: 0.8555 - val_loss: 0.2971 - val_accuracy: 0.8398\n",
            "Epoch 9/20\n",
            "8/8 [==============================] - 109s 14s/step - loss: -0.7457 - accuracy: 0.8984 - val_loss: -0.2781 - val_accuracy: 0.8867\n",
            "Epoch 10/20\n",
            "8/8 [==============================] - 105s 13s/step - loss: -0.8923 - accuracy: 0.9102 - val_loss: 3.0405 - val_accuracy: 0.5234\n",
            "Epoch 11/20\n",
            "8/8 [==============================] - 108s 14s/step - loss: -1.6040 - accuracy: 0.8711 - val_loss: -0.4574 - val_accuracy: 0.5234\n",
            "Epoch 12/20\n",
            "8/8 [==============================] - 103s 13s/step - loss: -1.5695 - accuracy: 0.8438 - val_loss: 3.3747 - val_accuracy: 0.4453\n",
            "Epoch 13/20\n",
            "8/8 [==============================] - 105s 13s/step - loss: -1.8168 - accuracy: 0.8125 - val_loss: -0.0588 - val_accuracy: 0.7070\n",
            "Epoch 14/20\n",
            "8/8 [==============================] - 115s 15s/step - loss: -1.3681 - accuracy: 0.8672 - val_loss: -1.0018 - val_accuracy: 0.8906\n",
            "Epoch 15/20\n",
            "8/8 [==============================] - 109s 14s/step - loss: -2.0423 - accuracy: 0.8555 - val_loss: -0.7228 - val_accuracy: 0.6680\n",
            "Epoch 16/20\n",
            "8/8 [==============================] - 106s 13s/step - loss: -1.1468 - accuracy: 0.8857 - val_loss: -0.0243 - val_accuracy: 0.6055\n",
            "Epoch 17/20\n",
            "8/8 [==============================] - 106s 13s/step - loss: -2.0084 - accuracy: 0.8203 - val_loss: -0.1058 - val_accuracy: 0.6641\n",
            "Epoch 18/20\n",
            "8/8 [==============================] - 104s 13s/step - loss: -2.2361 - accuracy: 0.8490 - val_loss: -0.4975 - val_accuracy: 0.6914\n",
            "Epoch 19/20\n",
            "8/8 [==============================] - 105s 13s/step - loss: -2.4509 - accuracy: 0.8320 - val_loss: -0.1225 - val_accuracy: 0.6133\n",
            "Epoch 20/20\n",
            "8/8 [==============================] - 104s 13s/step - loss: -2.5460 - accuracy: 0.8828 - val_loss: -1.0929 - val_accuracy: 0.7773\n"
          ]
        }
      ]
    },
    {
      "cell_type": "code",
      "source": [
        "print(\"train time-squeezenet: \", nd-st)"
      ],
      "metadata": {
        "id": "q-a8YvSDyhDC",
        "colab": {
          "base_uri": "https://localhost:8080/"
        },
        "outputId": "be729038-a912-4452-d1f0-3c2dfdb4bf92"
      },
      "execution_count": null,
      "outputs": [
        {
          "output_type": "stream",
          "name": "stdout",
          "text": [
            "train time-squeezenet:  2600.487313584\n"
          ]
        }
      ]
    },
    {
      "cell_type": "code",
      "source": [
        "model2.evaluate(val_data_gen)"
      ],
      "metadata": {
        "id": "nF0rhbGyylMI",
        "colab": {
          "base_uri": "https://localhost:8080/"
        },
        "outputId": "d603be1c-ead4-4098-f1e0-9ac2e94141e7"
      },
      "execution_count": null,
      "outputs": [
        {
          "output_type": "stream",
          "name": "stdout",
          "text": [
            "17/17 [==============================] - 43s 3s/step - loss: -1.6788 - accuracy: 0.7648\n"
          ]
        },
        {
          "output_type": "execute_result",
          "data": {
            "text/plain": [
              "[-1.678795576095581, 0.7648147940635681]"
            ]
          },
          "metadata": {},
          "execution_count": 22
        }
      ]
    },
    {
      "cell_type": "code",
      "source": [
        "model2.save('sqnet.h5')"
      ],
      "metadata": {
        "id": "6lYpir9aASGG"
      },
      "execution_count": null,
      "outputs": []
    },
    {
      "cell_type": "code",
      "source": [
        "STEP_SIZE_TEST=val_data_gen.n//val_data_gen.batch_size\n",
        "val_data_gen.reset()\n",
        "preds = model2.predict(val_data_gen,\n",
        "                      verbose=1)"
      ],
      "metadata": {
        "id": "zPwDFQWIylIH",
        "colab": {
          "base_uri": "https://localhost:8080/"
        },
        "outputId": "59a4ebee-a3fd-49ac-e83f-c0e78fdec58c"
      },
      "execution_count": null,
      "outputs": [
        {
          "output_type": "stream",
          "name": "stdout",
          "text": [
            "17/17 [==============================] - 46s 3s/step\n"
          ]
        }
      ]
    },
    {
      "cell_type": "code",
      "source": [
        "fpr2, tpr2, _ = roc_curve(val_data_gen.classes, preds, pos_label=1)"
      ],
      "metadata": {
        "id": "2GEMwXHjypRf"
      },
      "execution_count": null,
      "outputs": []
    },
    {
      "cell_type": "code",
      "source": [
        "roc_auc2 = auc(fpr, tpr)"
      ],
      "metadata": {
        "id": "o_vEZjdbypNK"
      },
      "execution_count": null,
      "outputs": []
    },
    {
      "cell_type": "code",
      "source": [
        "plt.figure()\n",
        "lw = 2\n",
        "plt.plot(fpr2, tpr2, color='darkorange',\n",
        "         lw=lw, label='ROC curve (area = %0.2f)' % roc_auc2)\n",
        "plt.plot([0, 1], [0, 1], color='navy', lw=lw, linestyle='--')\n",
        "plt.xlim([0.0, 1.0])\n",
        "plt.ylim([0.0, 1.05])\n",
        "plt.xlabel('False Positive Rate')\n",
        "plt.ylabel('True Positive Rate')\n",
        "plt.title('Receiver Operating Characteristic')\n",
        "plt.legend(loc=\"lower right\")\n",
        "plt.show()"
      ],
      "metadata": {
        "id": "3PEtHg5UypC6",
        "colab": {
          "base_uri": "https://localhost:8080/",
          "height": 295
        },
        "outputId": "87f08f78-ca1d-4b53-8a7f-08a66a5b9b26"
      },
      "execution_count": null,
      "outputs": [
        {
          "output_type": "display_data",
          "data": {
            "text/plain": [
              "<Figure size 432x288 with 1 Axes>"
            ],
            "image/png": "[encoded data removed]"
          },
          "metadata": {
            "needs_background": "light"
          }
        }
      ]
    },
    {
      "cell_type": "markdown",
      "source": [
        "##----------------------------------------------------------------------------------------------------------------------------------------------------"
      ],
      "metadata": {
        "id": "X-l9EUXrw1dx"
      }
    },
    {
      "cell_type": "markdown",
      "source": [
        "##COMPLETED"
      ],
      "metadata": {
        "id": "IdvGm1s5xH7_"
      }
    },
    {
      "cell_type": "markdown",
      "source": [
        "##----------------------------------------------------------------------------------------------------------------------------------------------------"
      ],
      "metadata": {
        "id": "m3ZvV6Z8xE-q"
      }
    },
    {
      "cell_type": "markdown",
      "source": [
        "##LeNet"
      ],
      "metadata": {
        "id": "9L8pZc9b0NHN"
      }
    },
    {
      "cell_type": "code",
      "source": [
        "# import the necessary packages\n",
        "from keras.models import Sequential\n",
        "from keras.layers.convolutional import Conv2D\n",
        "from keras.layers.convolutional import MaxPooling2D\n",
        "from keras.layers.core import Activation\n",
        "from keras.layers.core import Flatten\n",
        "from keras.layers.core import Dense\n",
        "from keras import backend as K\n",
        "\n",
        "class LeNet:\n",
        "\t@staticmethod\n",
        "\tdef build(width, height, depth, classes):\n",
        "\t\t# initialize the model\n",
        "\t\tmodel = Sequential()\n",
        "\t\tinputShape = (height, width, depth)\n",
        "\n",
        "\t\t# if we are using \"channels first\", update the input shape\n",
        "\t\tif K.image_data_format() == \"channels_first\":\n",
        "\t\t\tinputShape = (depth, height, width)\n",
        "\n",
        "\t\t# first set of CONV => RELU => POOL layers\n",
        "\t\tmodel.add(Conv2D(20, (5, 5), padding=\"same\",\n",
        "\t\t\tinput_shape=inputShape))\n",
        "\t\tmodel.add(Activation(\"relu\"))\n",
        "\t\tmodel.add(MaxPooling2D(pool_size=(2, 2), strides=(2, 2)))\n",
        "\n",
        "\t\t# second set of CONV => RELU => POOL layers\n",
        "\t\tmodel.add(Conv2D(50, (5, 5), padding=\"same\"))\n",
        "\t\tmodel.add(Activation(\"relu\"))\n",
        "\t\tmodel.add(MaxPooling2D(pool_size=(2, 2), strides=(2, 2)))\n",
        "\n",
        "\t\t# first (and only) set of FC => RELU layers\n",
        "\t\tmodel.add(Flatten())\n",
        "\t\tmodel.add(Dense(500))\n",
        "\t\tmodel.add(Activation(\"relu\"))\n",
        "\n",
        "\t\t# softmax classifier\n",
        "\t\tmodel.add(Dense(classes))\n",
        "\t\tmodel.add(Activation(\"softmax\"))\n",
        "\n",
        "\t\t# return the constructed network architecture\n",
        "\t\treturn model"
      ],
      "metadata": {
        "id": "Ktt7NdK40P_D"
      },
      "execution_count": null,
      "outputs": []
    },
    {
      "cell_type": "markdown",
      "source": [
        "##VGG16"
      ],
      "metadata": {
        "id": "N50bTBk0zLPM"
      }
    },
    {
      "cell_type": "markdown",
      "source": [
        "https://docs.python.org/3/library/argparse.html"
      ],
      "metadata": {
        "id": "VTlJ6xq2UI-Q"
      }
    },
    {
      "cell_type": "code",
      "source": [
        "# import matplotlib to save plot\n",
        "import matplotlib\n",
        "matplotlib.use(\"Agg\")\n",
        "\n",
        "# import all libraries and packages\n",
        "from finalproject.vgg16 import VGG16\n",
        "from sklearn.preprocessing import LabelBinarizer\n",
        "from sklearn.model_selection import train_test_split\n",
        "from sklearn.metrics import classification_report, confusion_matrix\n",
        "from keras.preprocessing.image import ImageDataGenerator\n",
        "from keras.optimizers import SGD\n",
        "from imutils import paths\n",
        "import matplotlib.pyplot as plt\n",
        "import pandas as pd\n",
        "import numpy as np\n",
        "import argparse\n",
        "import random\n",
        "import pickle\n",
        "import cv2\n",
        "import os\n",
        "\n",
        "# parser argument\n",
        "ap = argparse.ArgumentParser()\n",
        "ap.add_argument(\"-d\", \"--dataset\", required=True,\n",
        "\thelp=\"path to input dataset of images\")\n",
        "ap.add_argument(\"-m\", \"--model\", required=True,\n",
        "\thelp=\"path to output trained model\")\n",
        "ap.add_argument(\"-l\", \"--label-bin\", required=True,\n",
        "\thelp=\"path to output label binarizer\")\n",
        "ap.add_argument(\"-p\", \"--plot\", required=True,\n",
        "\thelp=\"path to output accuracy/loss plot\")\n",
        "args = vars(ap.parse_args())\n",
        "\n",
        "# initialize data and and label\n",
        "print(\"[INFO] loading images...\")\n",
        "data = []\n",
        "labels = []\n",
        "\n",
        "# randomly shuffle input dataset to make image path\n",
        "imagePaths = sorted(list(paths.list_images(args[\"dataset\"])))\n",
        "random.seed(42)\n",
        "random.shuffle(imagePaths)\n",
        "\n",
        "# loop input picture\n",
        "for imagePath in imagePaths:\n",
        "\t# load image path, then resize to 64x64 (VGG)\n",
        "\t#collect data list\n",
        "\timage = cv2.imread(imagePath)\n",
        "\timage = cv2.resize(image, (64, 64))\n",
        "\tdata.append(image)\n",
        "\n",
        "\t# extract class label from image path and update\n",
        "\t# label list\n",
        "\tlabel = imagePath.split(os.path.sep)[-2]\n",
        "\tlabels.append(label)\n",
        "\n",
        "# scale raw pixel intensity to range [0, 1]\n",
        "data = np.array(data, dtype=\"float\") / 255.0\n",
        "labels = np.array(labels)\n",
        "\n",
        "# dataset partition for automated training and testing\n",
        "(trainX, testX, trainY, testY) = train_test_split(data,\n",
        "\tlabels, test_size=0.25, random_state=42)\n",
        "\n",
        "# convert label from integer to vector\n",
        "lb = LabelBinarizer()\n",
        "trainY = lb.fit_transform(trainY)\n",
        "testY = lb.transform(testY)\n",
        "\n",
        "# hard data augmentation(automatic)\n",
        "aug = ImageDataGenerator(rotation_range=30, width_shift_range=0.1,\n",
        "\theight_shift_range=0.1, shear_range=0.2, zoom_range=0.2,\n",
        "\thorizontal_flip=True, fill_mode=\"nearest\")\n",
        "\n",
        "# initialize model\n",
        "model = VGG16.build(width=64, height=64, depth=3,\n",
        "\tclasses=len(lb.classes_))\n",
        "\n",
        "# epoch initialization, learning rate and batch size\n",
        "INIT_LR = 0.01\n",
        "EPOCHS = 20\n",
        "BS = 32\n",
        "\n",
        "# model initialization and optimizer\n",
        "print(\"[INFO] training network...\")\n",
        "opt = SGD(lr=INIT_LR, decay=INIT_LR / EPOCHS)\n",
        "model.compile(loss=\"categorical_crossentropy\", optimizer=opt,\n",
        "\tmetrics=[\"accuracy\"])\n",
        "\n",
        "# training \n",
        "H = model.fit_generator(aug.flow(trainX, trainY, batch_size=BS),\n",
        "\tvalidation_data=(testX, testY), steps_per_epoch=len(trainX) // BS,\n",
        "\tepochs=EPOCHS)\n",
        "\n",
        "# validation\n",
        "print(\"[INFO] evaluating network...\")\n",
        "predictions = model.predict(testX, batch_size=32)\n",
        "print(classification_report(testY.argmax(axis=1),\n",
        "\tpredictions.argmax(axis=1), target_names=lb.classes_))\n",
        "print(confusion_matrix(testY.argmax(axis=1),\n",
        "\tpredictions.argmax(axis=1)))\n",
        "\n",
        "# plot training loss and accuracy\n",
        "N = np.arange(0, EPOCHS)\n",
        "plt.style.use(\"ggplot\")\n",
        "plt.figure(1)\n",
        "\n",
        "# accuracy\n",
        "plt.subplot(211) \n",
        "plt.plot(N, H.history[\"accuracy\"], label=\"train_accuracy\")\n",
        "plt.plot(N, H.history[\"val_accuracy\"], label=\"val_accuracy\")\n",
        "plt.title('model accuracy')  \n",
        "plt.ylabel('Accuracy')  \n",
        "plt.xlabel('epoch')  \n",
        "plt.legend(['train', 'validation'], loc='upper left')  \n",
        "\n",
        "#loss\n",
        "plt.subplot(212)\n",
        "plt.plot(N, H.history[\"loss\"], label=\"train_loss\")\n",
        "plt.plot(N, H.history[\"val_loss\"], label=\"val_loss\")\n",
        "plt.title('model loss')  \n",
        "plt.ylabel('Loss')  \n",
        "plt.xlabel('epoch')  \n",
        "plt.legend(['train', 'validation'], loc='upper left')\n",
        "\n",
        "#save plot\n",
        "plt.tight_layout() \n",
        "plt.savefig(args[\"plot\"])\n",
        "\n",
        "\n",
        "# save model and label\n",
        "print(\"[INFO] serializing network and label binarizer...\")\n",
        "model.save(args[\"model\"])\n",
        "f = open(args[\"label_bin\"], \"wb\")\n",
        "f.write(pickle.dumps(lb))\n",
        "f.close()"
      ],
      "metadata": {
        "id": "XH4mXRzB01vL"
      },
      "execution_count": null,
      "outputs": []
    },
    {
      "cell_type": "code",
      "source": [
        "# import library and packages\n",
        "from keras.models import Sequential\n",
        "from keras.layers.normalization import BatchNormalization\n",
        "from keras.layers.convolutional import Conv2D\n",
        "from keras.layers.convolutional import MaxPooling2D\n",
        "from keras.layers.core import Activation\n",
        "from keras.layers.core import Flatten\n",
        "from keras.layers.core import Dropout\n",
        "from keras.layers.core import Dense\n",
        "from keras import backend as K\n",
        "\n",
        "class VGG16:\n",
        "\t@staticmethod\n",
        "\tdef build(width, height, depth, classes):\n",
        "\t\t#inisialisasi model\n",
        "\t\tmodel = Sequential()\n",
        "\t\tinputShape = (height, width, depth)\n",
        "\t\tchanDim = -1\n",
        "\n",
        "\t\t\n",
        "\t\tif K.image_data_format() == \"channels_first\":\n",
        "\t\t\tinputShape = (depth, height, width)\n",
        "\t\t\tchanDim = 1\n",
        "\n",
        "\t\t#BLOCK 1\n",
        "\t\t# CONV => RELU => POOL layer set\n",
        "\t\tmodel.add(Conv2D(64, (3, 3), padding=\"same\",\n",
        "\t\t\tinput_shape=inputShape))\n",
        "\t\tmodel.add(Activation(\"relu\"))\n",
        "\t\tmodel.add(Conv2D(64, (3, 3), padding=\"same\",\n",
        "\t\t\tinput_shape=inputShape))\n",
        "\t\tmodel.add(Activation(\"relu\"))\n",
        "\t\tmodel.add(BatchNormalization(axis=chanDim))\n",
        "\t\tmodel.add(MaxPooling2D(pool_size=(2, 2)))\n",
        "\t\tmodel.add(Dropout(0.25))\n",
        "\n",
        "\t\t#BLOCK 2\n",
        "\t\t# (CONV => RELU) * 2 => POOL layer set\n",
        "\t\tmodel.add(Conv2D(128, (3, 3), padding=\"same\"))\n",
        "\t\tmodel.add(Activation(\"relu\"))\n",
        "\t\tmodel.add(BatchNormalization(axis=chanDim))\n",
        "\t\tmodel.add(Conv2D(128, (3, 3), padding=\"same\"))\n",
        "\t\tmodel.add(Activation(\"relu\"))\n",
        "\t\tmodel.add(BatchNormalization(axis=chanDim))\n",
        "\t\tmodel.add(MaxPooling2D(pool_size=(2, 2)))\n",
        "\t\tmodel.add(Dropout(0.25))\n",
        "\n",
        "\t\t#BLOCK 3\n",
        "\t\t# (CONV => RELU) * 3 => POOL layer set\n",
        "\t\tmodel.add(Conv2D(256, (3, 3), padding=\"same\"))\n",
        "\t\tmodel.add(Activation(\"relu\"))\n",
        "\t\tmodel.add(BatchNormalization(axis=chanDim))\n",
        "\t\tmodel.add(Conv2D(256, (3, 3), padding=\"same\"))\n",
        "\t\tmodel.add(Activation(\"relu\"))\n",
        "\t\tmodel.add(BatchNormalization(axis=chanDim))\n",
        "\t\tmodel.add(Conv2D(256, (3, 3), padding=\"same\"))\n",
        "\t\tmodel.add(Activation(\"relu\"))\n",
        "\t\tmodel.add(BatchNormalization(axis=chanDim))\n",
        "\t\tmodel.add(MaxPooling2D(pool_size=(2, 2)))\n",
        "\t\tmodel.add(Dropout(0.25))\n",
        "\n",
        "\t\t#BLOCK 4\n",
        "\t\t# (CONV => RELU) * 3 => POOL layer set\n",
        "\t\tmodel.add(Conv2D(512, (3, 3), padding=\"same\"))\n",
        "\t\tmodel.add(Activation(\"relu\"))\n",
        "\t\tmodel.add(BatchNormalization(axis=chanDim))\n",
        "\t\tmodel.add(Conv2D(512, (3, 3), padding=\"same\"))\n",
        "\t\tmodel.add(Activation(\"relu\"))\n",
        "\t\tmodel.add(BatchNormalization(axis=chanDim))\n",
        "\t\tmodel.add(Conv2D(512, (3, 3), padding=\"same\"))\n",
        "\t\tmodel.add(Activation(\"relu\"))\n",
        "\t\tmodel.add(BatchNormalization(axis=chanDim))\n",
        "\t\tmodel.add(MaxPooling2D(pool_size=(2, 2)))\n",
        "\t\tmodel.add(Dropout(0.25))\n",
        "\n",
        "\t\t#BLOCK 5\n",
        "\t\t# (CONV => RELU) * 3 => POOL layer set\n",
        "\t\tmodel.add(Conv2D(512, (3, 3), padding=\"same\"))\n",
        "\t\tmodel.add(Activation(\"relu\"))\n",
        "\t\tmodel.add(BatchNormalization(axis=chanDim))\n",
        "\t\tmodel.add(Conv2D(512, (3, 3), padding=\"same\"))\n",
        "\t\tmodel.add(Activation(\"relu\"))\n",
        "\t\tmodel.add(BatchNormalization(axis=chanDim))\n",
        "\t\tmodel.add(Conv2D(512, (3, 3), padding=\"same\"))\n",
        "\t\tmodel.add(Activation(\"relu\"))\n",
        "\t\tmodel.add(BatchNormalization(axis=chanDim))\n",
        "\t\tmodel.add(MaxPooling2D(pool_size=(2, 2)))\n",
        "\t\tmodel.add(Dropout(0.25))\n",
        "\n",
        "\t\t# FC => RELU layers\n",
        "\t\tmodel.add(Flatten())\n",
        "\t\tmodel.add(Dense(4096))\n",
        "\t\tmodel.add(Activation(\"relu\"))\n",
        "\t\tmodel.add(Dense(4096))\n",
        "\t\tmodel.add(Activation(\"relu\"))\n",
        "\t\tmodel.add(BatchNormalization())\n",
        "\t\tmodel.add(Dropout(0.5))\n",
        "\n",
        "\t\t# softmax classifier\n",
        "\t\tmodel.add(Dense(classes))\n",
        "\t\tmodel.add(Activation(\"softmax\"))\n",
        "\n",
        "\t\t# return model\n",
        "\t\treturn "
      ],
      "metadata": {
        "id": "beWvxEGg0Y6B"
      },
      "execution_count": null,
      "outputs": []
    },
    {
      "cell_type": "markdown",
      "source": [
        "##VGG19"
      ],
      "metadata": {
        "id": "FQXidQfa0JrV"
      }
    },
    {
      "cell_type": "code",
      "source": [
        "# import the necessary packages\n",
        "from keras.models import Sequential\n",
        "from keras.layers.normalization import BatchNormalization\n",
        "from keras.layers.convolutional import Conv2D\n",
        "from keras.layers.convolutional import MaxPooling2D\n",
        "from keras.layers.core import Activation\n",
        "from keras.layers.core import Flatten\n",
        "from keras.layers.core import Dropout\n",
        "from keras.layers.core import Dense\n",
        "from keras import backend as K\n",
        "\n",
        "class VGG19:\n",
        "\t@staticmethod\n",
        "\tdef build(width, height, depth, classes):\n",
        "\t\t# initialize the model along with the input shape to be\n",
        "\t\t# \"channels last\" and the channels dimension itself\n",
        "\t\tmodel = Sequential()\n",
        "\t\tinputShape = (height, width, depth)\n",
        "\t\tchanDim = -1\n",
        "\n",
        "\t\t# if we are using \"channels first\", update the input shape\n",
        "\t\t# and channels dimension\n",
        "\t\tif K.image_data_format() == \"channels_first\":\n",
        "\t\t\tinputShape = (depth, height, width)\n",
        "\t\t\tchanDim = 1\n",
        "\n",
        "\t\t#BLOCK 1\n",
        "\t\t# CONV => RELU => POOL layer set\n",
        "\t\tmodel.add(Conv2D(64, (3, 3), padding=\"same\",\n",
        "\t\t\tinput_shape=inputShape))\n",
        "\t\tmodel.add(Activation(\"relu\"))\n",
        "\t\tmodel.add(Conv2D(64, (3, 3), padding=\"same\",\n",
        "\t\t\tinput_shape=inputShape))\n",
        "\t\tmodel.add(Activation(\"relu\"))\n",
        "\t\tmodel.add(BatchNormalization(axis=chanDim))\n",
        "\t\tmodel.add(MaxPooling2D(pool_size=(2, 2)))\n",
        "\t\tmodel.add(Dropout(0.25))\n",
        "\n",
        "\t\t#BLOCK 2\n",
        "\t\t# (CONV => RELU) * 2 => POOL layer set\n",
        "\t\tmodel.add(Conv2D(128, (3, 3), padding=\"same\"))\n",
        "\t\tmodel.add(Activation(\"relu\"))\n",
        "\t\tmodel.add(BatchNormalization(axis=chanDim))\n",
        "\t\tmodel.add(Conv2D(128, (3, 3), padding=\"same\"))\n",
        "\t\tmodel.add(Activation(\"relu\"))\n",
        "\t\tmodel.add(BatchNormalization(axis=chanDim))\n",
        "\t\tmodel.add(MaxPooling2D(pool_size=(2, 2)))\n",
        "\t\tmodel.add(Dropout(0.25))\n",
        "\n",
        "\t\t#BLOCK 3\n",
        "\t\t# (CONV => RELU) * 3 => POOL layer set\n",
        "\t\tmodel.add(Conv2D(256, (3, 3), padding=\"same\"))\n",
        "\t\tmodel.add(Activation(\"relu\"))\n",
        "\t\tmodel.add(BatchNormalization(axis=chanDim))\n",
        "\t\tmodel.add(Conv2D(256, (3, 3), padding=\"same\"))\n",
        "\t\tmodel.add(Activation(\"relu\"))\n",
        "\t\tmodel.add(BatchNormalization(axis=chanDim))\n",
        "\t\tmodel.add(Conv2D(256, (3, 3), padding=\"same\"))\n",
        "\t\tmodel.add(Activation(\"relu\"))\n",
        "\t\tmodel.add(BatchNormalization(axis=chanDim))\n",
        "\t\tmodel.add(Conv2D(256, (3, 3), padding=\"same\"))\n",
        "\t\tmodel.add(Activation(\"relu\"))\n",
        "\t\tmodel.add(BatchNormalization(axis=chanDim))\n",
        "\t\tmodel.add(MaxPooling2D(pool_size=(2, 2)))\n",
        "\t\tmodel.add(Dropout(0.25))\n",
        "\n",
        "\t\t#BLOCK 4\n",
        "\t\t# (CONV => RELU) * 3 => POOL layer set\n",
        "\t\tmodel.add(Conv2D(512, (3, 3), padding=\"same\"))\n",
        "\t\tmodel.add(Activation(\"relu\"))\n",
        "\t\tmodel.add(BatchNormalization(axis=chanDim))\n",
        "\t\tmodel.add(Conv2D(512, (3, 3), padding=\"same\"))\n",
        "\t\tmodel.add(Activation(\"relu\"))\n",
        "\t\tmodel.add(BatchNormalization(axis=chanDim))\n",
        "\t\tmodel.add(Conv2D(512, (3, 3), padding=\"same\"))\n",
        "\t\tmodel.add(Activation(\"relu\"))\n",
        "\t\tmodel.add(BatchNormalization(axis=chanDim))\n",
        "\t\tmodel.add(Conv2D(512, (3, 3), padding=\"same\"))\n",
        "\t\tmodel.add(Activation(\"relu\"))\n",
        "\t\tmodel.add(BatchNormalization(axis=chanDim))\n",
        "\t\tmodel.add(MaxPooling2D(pool_size=(2, 2)))\n",
        "\t\tmodel.add(Dropout(0.25))\n",
        "\n",
        "\t\t#BLOCK 5\n",
        "\t\t# (CONV => RELU) * 3 => POOL layer set\n",
        "\t\tmodel.add(Conv2D(512, (3, 3), padding=\"same\"))\n",
        "\t\tmodel.add(Activation(\"relu\"))\n",
        "\t\tmodel.add(BatchNormalization(axis=chanDim))\n",
        "\t\tmodel.add(Conv2D(512, (3, 3), padding=\"same\"))\n",
        "\t\tmodel.add(Activation(\"relu\"))\n",
        "\t\tmodel.add(BatchNormalization(axis=chanDim))\n",
        "\t\tmodel.add(Conv2D(512, (3, 3), padding=\"same\"))\n",
        "\t\tmodel.add(Activation(\"relu\"))\n",
        "\t\tmodel.add(Conv2D(512, (3, 3), padding=\"same\"))\n",
        "\t\tmodel.add(Activation(\"relu\"))\n",
        "\t\tmodel.add(BatchNormalization(axis=chanDim))\n",
        "\t\tmodel.add(MaxPooling2D(pool_size=(2, 2)))\n",
        "\t\tmodel.add(Dropout(0.25))\n",
        "\n",
        "\t\t# first (and only) set of FC => RELU layers\n",
        "\t\tmodel.add(Flatten())\n",
        "\t\tmodel.add(Dense(4096))\n",
        "\t\tmodel.add(Activation(\"relu\"))\n",
        "\t\tmodel.add(Dense(4096))\n",
        "\t\tmodel.add(Activation(\"relu\"))\n",
        "\t\tmodel.add(BatchNormalization())\n",
        "\t\tmodel.add(Dropout(0.5))\n",
        "\n",
        "\t\t# softmax classifier\n",
        "\t\tmodel.add(Dense(classes))\n",
        "\t\tmodel.add(Activation(\"softmax\"))\n",
        "\n",
        "\t\t# return the constructed network architecture\n",
        "\t\treturn model"
      ],
      "metadata": {
        "id": "jCZJBu5T0MWl"
      },
      "execution_count": null,
      "outputs": []
    },
    {
      "cell_type": "markdown",
      "source": [
        "## CODE"
      ],
      "metadata": {
        "id": "HkaP4AA713GD"
      }
    },
    {
      "cell_type": "code",
      "source": [
        "# python classify.py --image images/alter.jpg --model output/finalprojectb1.model --label-bin output/finalprojectb1.pickle --width 64 --height 64\n",
        "\n",
        "# import library dan packages\n",
        "from keras.models import load_model\n",
        "import argparse\n",
        "import pickle\n",
        "import cv2\n",
        "\n",
        "# argumen parser\n",
        "ap = argparse.ArgumentParser()\n",
        "ap.add_argument(\"-i\", \"--image\", required=True,\n",
        "\thelp=\"path to input image we are going to classify\")\n",
        "ap.add_argument(\"-m\", \"--model\", required=True,\n",
        "\thelp=\"path to trained Keras model\")\n",
        "ap.add_argument(\"-l\", \"--label-bin\", required=True,\n",
        "\thelp=\"path to label binarizer\")\n",
        "ap.add_argument(\"-w\", \"--width\", type=int, default=28,\n",
        "\thelp=\"target spatial dimension width\")\n",
        "ap.add_argument(\"-e\", \"--height\", type=int, default=28,\n",
        "\thelp=\"target spatial dimension height\")\n",
        "ap.add_argument(\"-f\", \"--flatten\", type=int, default=-1,\n",
        "\thelp=\"whether or not we should flatten the image\")\n",
        "args = vars(ap.parse_args())\n",
        "\n",
        "# load gambar dan resize\n",
        "image = cv2.imread(args[\"image\"])\n",
        "output = image.copy()\n",
        "image = cv2.resize(image, (args[\"width\"], args[\"height\"]))\n",
        "\n",
        "# scale pixel values to [0, 1]\n",
        "image = image.astype(\"float\") / 255.0\n",
        "\n",
        "# flatten cek\n",
        "if args[\"flatten\"] > 0:\n",
        "\timage = image.flatten()\n",
        "\timage = image.reshape((1, image.shape[0]))\n",
        "\n",
        "else:\n",
        "\timage = image.reshape((1, image.shape[0], image.shape[1],\n",
        "\t\timage.shape[2]))\n",
        "\n",
        "# load model dan label\n",
        "print(\"[INFO] loading network and label binarizer...\")\n",
        "model = load_model(args[\"model\"])\n",
        "lb = pickle.loads(open(args[\"label_bin\"], \"rb\").read())\n",
        "\n",
        "# prediksi\n",
        "preds = model.predict(image)\n",
        "print(preds)\n",
        "\n",
        "# menentukan class label untuk gambar\n",
        "i = preds.argmax(axis=1)[0]\n",
        "label = lb.classes_[i]\n",
        "\n",
        "# munculin hasil klasifikasi + prosentase\n",
        "text = \"{}: {:.2f}%\".format(label, preds[0][i] * 100)\n",
        "cv2.putText(output, text, (5, 50), cv2.FONT_HERSHEY_TRIPLEX, 0.7,\n",
        "\t(0, 0, 255), 2)\n",
        "\n",
        "\n",
        "# munculin gambar\n",
        "cv2.imshow(\"Potato Leaf Disease Classification Based on Deep Learning\", output)\n",
        "cv2.waitKey(0)"
      ],
      "metadata": {
        "id": "0iKHAYP2Q9Pb"
      },
      "execution_count": null,
      "outputs": []
    }
  ]
}